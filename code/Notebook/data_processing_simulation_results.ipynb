{
 "cells": [
  {
   "cell_type": "code",
   "execution_count": 1,
   "metadata": {},
   "outputs": [],
   "source": [
    "#%% Import libraries\n",
    "import pandas as pd\n",
    "import numpy as np\n",
    "import warnings\n",
    "warnings.filterwarnings('ignore')\n",
    "from toolbox.utils import import_simulation_data\n",
    "from toolbox.epw  import import_epw"
   ]
  },
  {
   "cell_type": "code",
   "execution_count": 2,
   "metadata": {},
   "outputs": [
    {
     "name": "stdout",
     "output_type": "stream",
     "text": [
      "Done in 4.35 minutes\n",
      "Saving the data...\n",
      "Data saved in ../results/simulations/2080_simulation_data.csv!\n"
     ]
    }
   ],
   "source": [
    "scenarios = ['present-day', '2050', '2080']\n",
    "epw_files = [\n",
    "    'ZAF_GT_Johannesburg.Botanical.Gardens.683610_TMYx.2004-2018.epw', \n",
    "    'ZAF_GT_Johannesburg.Botanical.Gardens.683610_TMYx.2004-2018_2050.epw', \n",
    "    'ZAF_GT_Johannesburg.Botanical.Gardens.683610_TMYx.2004-2018_2080.epw',\n",
    "    ]\n",
    "\n",
    "simulation_data = {}\n",
    "for i, scenario in enumerate(scenarios):\n",
    "    weather = import_epw(r'../database/climate/' + epw_files[i])\n",
    "    directory = r'../simulations/' + scenario + '/outputs/'\n",
    "    output_path = r'../results/simulations/' + scenario + '_simulation_data.csv'\n",
    "    simulation_data[scenario] = import_simulation_data(directory, weather, output_path)"
   ]
  }
 ],
 "metadata": {
  "kernelspec": {
   "display_name": "ml-env",
   "language": "python",
   "name": "python3"
  },
  "language_info": {
   "codemirror_mode": {
    "name": "ipython",
    "version": 3
   },
   "file_extension": ".py",
   "mimetype": "text/x-python",
   "name": "python",
   "nbconvert_exporter": "python",
   "pygments_lexer": "ipython3",
   "version": "3.10.9"
  },
  "orig_nbformat": 4
 },
 "nbformat": 4,
 "nbformat_minor": 2
}
