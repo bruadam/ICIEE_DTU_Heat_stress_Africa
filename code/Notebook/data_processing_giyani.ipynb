{
 "cells": [
  {
   "cell_type": "code",
   "execution_count": 1,
   "metadata": {},
   "outputs": [],
   "source": [
    "#%% Import libraries\n",
    "import pandas as pd\n",
    "import numpy as np\n",
    "import warnings\n",
    "warnings.filterwarnings('ignore')\n",
    "import os"
   ]
  },
  {
   "cell_type": "code",
   "execution_count": 2,
   "metadata": {},
   "outputs": [],
   "source": [
    "path_directory_winter = '../database/giyani/winter/'\n",
    "path_directory_summer = '../database/giyani/others/'\n",
    "\n",
    "paths_winter = os.listdir(path_directory_winter)\n",
    "for path in paths_winter:\n",
    "    if os.path.getsize(path_directory_winter + path) < 5000:\n",
    "        paths_winter.remove(path)\n",
    "\n",
    "paths_summer = os.listdir(path_directory_summer)\n",
    "for path in paths_summer:\n",
    "    if os.path.getsize(path_directory_summer + path) < 5000:\n",
    "        paths_summer.remove(path)"
   ]
  },
  {
   "cell_type": "code",
   "execution_count": 3,
   "metadata": {},
   "outputs": [
    {
     "name": "stdout",
     "output_type": "stream",
     "text": [
      "Info about the data set:\n",
      "<class 'pandas.core.frame.DataFrame'>\n",
      "RangeIndex: 82554 entries, 0 to 82553\n",
      "Data columns (total 5 columns):\n",
      " #   Column                        Non-Null Count  Dtype         \n",
      "---  ------                        --------------  -----         \n",
      " 0   Datetime                      82554 non-null  datetime64[ns]\n",
      " 1   Indoor Mean Air Temperature   82554 non-null  float64       \n",
      " 2   Indoor Air Relative Humidity  82554 non-null  float64       \n",
      " 3   key                           82554 non-null  object        \n",
      " 4   Season                        82554 non-null  object        \n",
      "dtypes: datetime64[ns](1), float64(2), object(2)\n",
      "memory usage: 3.1+ MB\n",
      "None\n"
     ]
    }
   ],
   "source": [
    "#%% Import WINTER data\n",
    "\n",
    "df_winter = {}\n",
    "for path in paths_winter:\n",
    "    df_winter[path] = pd.read_csv(path_directory_winter + path, header = None)\n",
    "\n",
    "    df_winter[path] = df_winter[path].drop([2, 4], axis = 1)\n",
    "    df_winter[path].columns = ['Datetime', 'Indoor Mean Air Temperature', 'Indoor Air Relative Humidity']\n",
    "    df_winter[path]['Datetime'] = pd.to_datetime(df_winter[path]['Datetime'])\n",
    "\n",
    "    df_winter[path] = df_winter[path].loc[(df_winter[path]['Indoor Air Relative Humidity'] >= 0) & (df_winter[path]['Indoor Air Relative Humidity'] <= 100)]\n",
    "    df_winter[path]['key'] = path[:-4] \n",
    "    df_winter[path]['Season'] = 'Winter'\n",
    "    \n",
    "df_winter = pd.concat(df_winter, ignore_index=True)\n",
    "\n",
    "# Clean data\n",
    "\n",
    "df_winter['Indoor Mean Air Temperature'] = df_winter['Indoor Mean Air Temperature'].apply(lambda x: float(x) if isinstance(x, float) else np.nan)\n",
    "df_winter['Indoor Air Relative Humidity'] = df_winter['Indoor Air Relative Humidity'].apply(lambda x: float(x) if isinstance(x, float) else np.nan)\n",
    "\n",
    "print('Info about the data set:')\n",
    "print(df_winter.info())"
   ]
  },
  {
   "cell_type": "code",
   "execution_count": 4,
   "metadata": {},
   "outputs": [
    {
     "name": "stdout",
     "output_type": "stream",
     "text": [
      "Non-numeric values in the data set : [] \n",
      "\n",
      "Info about the data set:\n",
      "<class 'pandas.core.frame.DataFrame'>\n",
      "RangeIndex: 82554 entries, 0 to 82553\n",
      "Data columns (total 5 columns):\n",
      " #   Column                        Non-Null Count  Dtype         \n",
      "---  ------                        --------------  -----         \n",
      " 0   Datetime                      82554 non-null  datetime64[ns]\n",
      " 1   Indoor Mean Air Temperature   82554 non-null  float64       \n",
      " 2   Indoor Air Relative Humidity  82554 non-null  float64       \n",
      " 3   key                           82554 non-null  object        \n",
      " 4   Season                        82554 non-null  object        \n",
      "dtypes: datetime64[ns](1), float64(2), object(2)\n",
      "memory usage: 3.1+ MB\n",
      "None\n",
      "Number of missing values in the data set : \n",
      "\n",
      "Datetime                        0\n",
      "Indoor Mean Air Temperature     0\n",
      "Indoor Air Relative Humidity    0\n",
      "key                             0\n",
      "Season                          0\n",
      "dtype: int64\n"
     ]
    }
   ],
   "source": [
    "# Clean WINTER data\n",
    "strings = df_winter[~df_winter['Indoor Mean Air Temperature'].astype(str).str.contains(r'^-?\\d+\\.?\\d*$')]['Indoor Mean Air Temperature'].unique()\n",
    "print('Non-numeric values in the data set : {} \\n'.format(strings))\n",
    "\n",
    "df_winter.replace('> 85.0 ', np.nan, inplace=True)\n",
    "\n",
    "# Convert to numeric\n",
    "df_winter['Indoor Mean Air Temperature'] = pd.to_numeric(df_winter['Indoor Mean Air Temperature'])\n",
    "df_winter['Indoor Air Relative Humidity'] = pd.to_numeric(df_winter['Indoor Air Relative Humidity'])\n",
    "\n",
    "# Drop missing values\n",
    "df_winter.dropna(inplace=True)\n",
    "\n",
    "print('Info about the data set:')\n",
    "print(df_winter.info())\n",
    "print('Number of missing values in the data set : \\n')\n",
    "print(df_winter.isnull().sum())"
   ]
  },
  {
   "cell_type": "code",
   "execution_count": 5,
   "metadata": {},
   "outputs": [
    {
     "name": "stdout",
     "output_type": "stream",
     "text": [
      "1010060657 Started 9-8-2016, Finished 3-28-2017.txt\n",
      "1010060660 Started 9-8-2016, Finished 3-28-2017.txtm\n",
      "Info about the data set:\n",
      "<class 'pandas.core.frame.DataFrame'>\n",
      "RangeIndex: 2211678 entries, 0 to 2211677\n",
      "Data columns (total 5 columns):\n",
      " #   Column                        Dtype         \n",
      "---  ------                        -----         \n",
      " 0   Datetime                      datetime64[ns]\n",
      " 1   Indoor Mean Air Temperature   object        \n",
      " 2   Indoor Air Relative Humidity  float64       \n",
      " 3   key                           object        \n",
      " 4   Season                        object        \n",
      "dtypes: datetime64[ns](1), float64(1), object(3)\n",
      "memory usage: 84.4+ MB\n",
      "None\n"
     ]
    }
   ],
   "source": [
    "#%% SUMMER\n",
    "\n",
    "df_summer = {}\n",
    "for path in paths_summer:\n",
    "    try:\n",
    "        df_summer[path] = pd.read_csv(path_directory_summer + path, header = [0], index_col=[0], encoding='latin1')\n",
    "        \n",
    "        df_summer[path]['Datetime'] = df_summer[path]['Date'] + ' ' + df_summer[path]['Time']\n",
    "        df_summer[path]['Datetime'] = pd.to_datetime(df_summer[path]['Datetime'], format='%m/%d/%Y %H:%M:%S %p')\n",
    "\n",
    "        key = path[:10]\n",
    "        try:\n",
    "            df_summer[path] = df_summer[path][['Datetime', 'Readings (°C)', 'Readings (%RH)']]\n",
    "        except:\n",
    "            df_summer[path] = df_summer[path][['Datetime', 'Temp', 'RH']]\n",
    "        df_summer[path].columns = ['Datetime', 'Indoor Mean Air Temperature', 'Indoor Air Relative Humidity']\n",
    "\n",
    "        df_summer[path] = df_summer[path].loc[(df_summer[path]['Indoor Air Relative Humidity'] >= 0) & (df_summer[path]['Indoor Air Relative Humidity'] <= 100)]\n",
    "\n",
    "        df_summer[path]['key'] = key\n",
    "        df_summer[path]['Season'] = 'Summer'\n",
    "    except:\n",
    "        print(path) # Print the name of the file that could not be read\n",
    "    \n",
    "\n",
    "# Concatenate all dataframes\n",
    "df_summer = pd.concat(df_summer, ignore_index=True)\n",
    "\n",
    "print('Info about the data set:')\n",
    "print(df_summer.info())"
   ]
  },
  {
   "cell_type": "code",
   "execution_count": 6,
   "metadata": {},
   "outputs": [
    {
     "name": "stdout",
     "output_type": "stream",
     "text": [
      "Non-numeric values in the data set : ['> 85.0 ' nan] \n",
      "\n",
      "Info about the data set:\n",
      "<class 'pandas.core.frame.DataFrame'>\n",
      "Int64Index: 899126 entries, 0 to 2211669\n",
      "Data columns (total 5 columns):\n",
      " #   Column                        Non-Null Count   Dtype         \n",
      "---  ------                        --------------   -----         \n",
      " 0   Datetime                      899126 non-null  datetime64[ns]\n",
      " 1   Indoor Mean Air Temperature   899126 non-null  float64       \n",
      " 2   Indoor Air Relative Humidity  899126 non-null  float64       \n",
      " 3   key                           899126 non-null  object        \n",
      " 4   Season                        899126 non-null  object        \n",
      "dtypes: datetime64[ns](1), float64(2), object(2)\n",
      "memory usage: 41.2+ MB\n",
      "None\n",
      "Number of missing values in the data set : \n",
      "\n",
      "Datetime                        0\n",
      "Indoor Mean Air Temperature     0\n",
      "Indoor Air Relative Humidity    0\n",
      "key                             0\n",
      "Season                          0\n",
      "dtype: int64\n"
     ]
    }
   ],
   "source": [
    "# Clean SUMMER data\n",
    "strings = df_summer[~df_summer['Indoor Mean Air Temperature'].astype(str).str.contains(r'^-?\\d+\\.?\\d*$')]['Indoor Mean Air Temperature'].unique()\n",
    "print('Non-numeric values in the data set : {} \\n'.format(strings))\n",
    "\n",
    "df_summer.replace('> 85.0 ', np.nan, inplace=True)\n",
    "\n",
    "# Convert to numeric\n",
    "df_summer['Indoor Mean Air Temperature'] = pd.to_numeric(df_summer['Indoor Mean Air Temperature'])\n",
    "df_summer['Indoor Air Relative Humidity'] = pd.to_numeric(df_summer['Indoor Air Relative Humidity'])\n",
    "\n",
    "# Drop missing values\n",
    "df_summer.dropna(inplace=True)\n",
    "\n",
    "# Delete duplicate key and datetime\n",
    "df_summer.drop_duplicates(subset=['key', 'Datetime'], inplace=True)\n",
    "df_winter.drop_duplicates(subset=['key', 'Datetime'], inplace=True)\n",
    "\n",
    "print('Info about the data set:')\n",
    "print(df_summer.info())\n",
    "print('Number of missing values in the data set : \\n')\n",
    "print(df_summer.isnull().sum())"
   ]
  },
  {
   "cell_type": "code",
   "execution_count": 7,
   "metadata": {},
   "outputs": [
    {
     "name": "stdout",
     "output_type": "stream",
     "text": [
      "Common period of measurements for WINTER : 2017-07-03 00:00:00 - 2017-09-12 12:00:00\n",
      "Common period of measurements for SUMMER : 2016-09-08 01:58:08 - 2017-03-20 12:17:32\n",
      "Info about the data set:\n",
      "Number of keys in WINTER data set : 98\n",
      "Number of keys in SUMMER data set : 366\n"
     ]
    }
   ],
   "source": [
    "# Common measurements period WINTER\n",
    "common_period_winter = df_winter.groupby('key')['Datetime'].agg(['min', 'max'])\n",
    "# Manual input for Winter because 3 dataframes are not in the common period.\n",
    "date_min_winter = '2017-07-03 00:00:00'\n",
    "date_max_winter = '2017-09-12 12:00:00'\n",
    "print('Common period of measurements for WINTER : {} - {}'.format(date_min_winter, date_max_winter))\n",
    "\n",
    "# Common measurements period SUMMER\n",
    "common_period_summer = df_summer.groupby('key')['Datetime'].agg(['min', 'max'])\n",
    "date_min_summer = common_period_summer['min'].max()\n",
    "date_max_summer = common_period_summer['max'].min()\n",
    "print('Common period of measurements for SUMMER : {} - {}'.format(date_min_summer, date_max_summer))\n",
    "\n",
    "# Filter dataframes\n",
    "df_winter_filtered = df_winter[(df_winter['Datetime'] >= date_min_winter) & (df_winter['Datetime'] <= date_max_winter)]\n",
    "df_summer_filtered = df_summer[(df_summer['Datetime'] >= date_min_summer) & (df_summer['Datetime'] <= date_max_summer)]\n",
    "\n",
    "# Create dict of dataframes by key\n",
    "df_winter_dict = dict(tuple(df_winter_filtered.groupby('key')))\n",
    "df_summer_dict = dict(tuple(df_summer_filtered.groupby('key')))\n",
    "\n",
    "print('Info about the data set:')\n",
    "print('Number of keys in WINTER data set : {}'.format(len(df_winter_dict.keys())))\n",
    "print('Number of keys in SUMMER data set : {}'.format(len(df_summer_dict.keys())))"
   ]
  },
  {
   "cell_type": "code",
   "execution_count": 8,
   "metadata": {},
   "outputs": [
    {
     "name": "stdout",
     "output_type": "stream",
     "text": [
      "Info about the data set:\n",
      "Number of keys: 97\n",
      "Key to eject: 7C000000507D9241\n"
     ]
    }
   ],
   "source": [
    "#%% Eject keys with less than 95% of datapoints SUMMER\n",
    "key_to_eject = None\n",
    "for key in df_winter_dict.keys():\n",
    "    if len(df_winter_dict[key]) < (pd.Series([len(df_winter_dict[key]) for key in df_winter_dict.keys()]).value_counts().sort_index(ascending=False).index[0])*0.95:\n",
    "        key_to_eject = key\n",
    "    df_winter_dict[key] = df_winter_dict[key].sort_values(by=['Datetime'])\n",
    "    df_winter_dict[key] = df_winter_dict[key].resample('2H', on='Datetime').mean()\n",
    "    df_winter_dict[key]['Datetime'] = df_winter_dict[key].index\n",
    "    df_winter_dict[key]['key'] = key\n",
    "    \n",
    "if key_to_eject is not None:\n",
    "    df_winter_dict.pop(key_to_eject)\n",
    "df_winter_filtered = pd.concat(df_winter_dict, ignore_index=True)\n",
    "\n",
    "print('Info about the data set:')\n",
    "print('Number of keys: {}'.format(len(df_winter_dict)))\n",
    "print('Key to eject: {}'.format(key_to_eject))"
   ]
  },
  {
   "cell_type": "code",
   "execution_count": 9,
   "metadata": {},
   "outputs": [
    {
     "name": "stdout",
     "output_type": "stream",
     "text": [
      "Info about the data set:\n",
      "Number of keys: 365\n",
      "Key to eject: 1010060720\n"
     ]
    }
   ],
   "source": [
    "#%% Eject keys with less than 95% of datapoints SUMMER\n",
    "key_to_eject = None\n",
    "for key in df_summer_dict.keys():\n",
    "    if len(df_summer_dict[key]) < (pd.Series([len(df_summer_dict[key]) for key in df_summer_dict.keys()]).value_counts().sort_index(ascending=False).index[0])*0.95:\n",
    "        key_to_eject = key\n",
    "    df_summer_dict[key] = df_summer_dict[key].sort_values(by=['Datetime'])\n",
    "    df_summer_dict[key] = df_summer_dict[key].resample('1H', on='Datetime').mean()\n",
    "    df_summer_dict[key]['Datetime'] = df_summer_dict[key].index\n",
    "    df_summer_dict[key]['key'] = key\n",
    "\n",
    "if key_to_eject is not None:\n",
    "    df_summer_dict.pop(key_to_eject)\n",
    "df_summer_filtered = pd.concat(df_summer_dict, ignore_index=True)\n",
    "\n",
    "print('Info about the data set:')\n",
    "print('Number of keys: {}'.format(len(df_summer_dict)))\n",
    "print('Key to eject: {}'.format(key_to_eject))"
   ]
  },
  {
   "cell_type": "code",
   "execution_count": 10,
   "metadata": {},
   "outputs": [],
   "source": [
    "#%% Interpolate missing values\n",
    "\n",
    "df_temp = df_summer_filtered.pivot_table(values='Indoor Mean Air Temperature', index='Datetime', columns='key')\n",
    "df_temp = df_temp.interpolate(method='time', limit_direction='both')\n",
    "df_rh = df_summer_filtered.pivot_table(values='Indoor Air Relative Humidity', index='Datetime', columns='key')\n",
    "df_rh = df_rh.interpolate(method='time', limit_direction='both')\n",
    "# Merge dataframes to a dictionary with keys and dataframes of three columns (Datetime, Temperature, Relative Humidity)\n",
    "df_dict = {}\n",
    "for key in df_temp.columns:\n",
    "    df_dict[key] = pd.concat([df_temp[key], df_rh[key]], axis=1)\n",
    "    df_dict[key].columns = ['Indoor Mean Air Temperature', 'Indoor Air Relative Humidity']\n",
    "    df_dict[key].index = pd.to_datetime(df_dict[key].index)\n",
    "df_summer_dict = df_dict"
   ]
  },
  {
   "cell_type": "code",
   "execution_count": 11,
   "metadata": {},
   "outputs": [],
   "source": [
    "df_temp = df_winter_filtered.pivot_table(values='Indoor Mean Air Temperature', index='Datetime', columns='key')\n",
    "df_temp = df_temp.interpolate(method='time', limit_direction='both')\n",
    "\n",
    "df_rh = df_winter_filtered.pivot_table(values='Indoor Air Relative Humidity', index='Datetime', columns='key')\n",
    "df_rh = df_rh.interpolate(method='time', limit_direction='both')\n",
    "\n",
    "# Merge dataframes to a dictionary with keys and dataframes of three columns (Datetime, Temperature, Relative Humidity)\n",
    "df_dict = {}\n",
    "for key in df_temp.columns:\n",
    "    df_dict[key] = pd.concat([df_temp[key], df_rh[key]], axis=1)\n",
    "    df_dict[key].columns = ['Indoor Mean Air Temperature', 'Indoor Air Relative Humidity']\n",
    "    df_dict[key].index = pd.to_datetime(df_dict[key].index)\n",
    "df_winter_dict = df_dict"
   ]
  },
  {
   "cell_type": "code",
   "execution_count": 12,
   "metadata": {},
   "outputs": [],
   "source": [
    "#%% Merge with weather data\n",
    "\n",
    "df_weather = pd.read_csv('../database/cleaned/giyani_weather.csv', header=0, parse_dates=True)\n",
    "df_weather['Datetime'] = pd.to_datetime(df_weather['Datetime'])\n",
    "\n",
    "columns = ['Indoor Mean Air Temperature', 'Indoor Air Relative Humidity', 'Outdoor Dry Bulb Temperature', 'Outdoor Relative Humidity', 'Atmospheric Station Pressure', 'Wind Speed', 'Wind Direction', 'Precipitable Water']\n",
    "# Merge\n",
    "\n",
    "for key in df_summer_dict.keys():\n",
    "    df_summer_dict[key] = pd.merge_asof(df_summer_dict[key].sort_values('Datetime'), df_weather.sort_values('Datetime'), on='Datetime', direction='nearest')\n",
    "    df_summer_dict[key].set_index('Datetime', inplace=True)\n",
    "    df_summer_dict[key] = df_summer_dict[key][columns]\n",
    "\n",
    "\n",
    "for key in df_winter_dict.keys():\n",
    "    df_winter_dict[key] = pd.merge_asof(df_winter_dict[key].sort_values('Datetime'), df_weather.sort_values('Datetime'), on='Datetime', direction='nearest')\n",
    "    df_winter_dict[key].set_index('Datetime', inplace=True)\n",
    "    df_winter_dict[key] = df_winter_dict[key][columns]"
   ]
  },
  {
   "cell_type": "code",
   "execution_count": 18,
   "metadata": {},
   "outputs": [],
   "source": [
    "#%% Save data WINTER\n",
    "for key in df_winter_dict.keys():\n",
    "    df_winter_dict[key].to_csv('../database/cleaned/giyani/winter_{}.csv'.format(key), index=True)\n",
    "\n",
    "for key in df_winter_dict.keys():\n",
    "    df_winter_dict[key]['key'] = key\n",
    "    df_winter_dict[key]['Datetime'] = df_winter_dict[key].index\n",
    "# Concatenate all dataframes\n",
    "df_winter = pd.concat(df_winter_dict, ignore_index=True)\n",
    "df_winter.to_csv('../database/cleaned/giyani_winter_concatenated.csv', index=True)"
   ]
  },
  {
   "cell_type": "code",
   "execution_count": 19,
   "metadata": {},
   "outputs": [],
   "source": [
    "#%% Save data SUMMER\n",
    "for key in df_summer_dict.keys():\n",
    "    df_summer_dict[key].to_csv('../database/cleaned/giyani/summer_{}.csv'.format(key), index=True)\n",
    "\n",
    "for key in df_summer_dict.keys():\n",
    "    df_summer_dict[key]['key'] = key\n",
    "    df_summer_dict[key]['Datetime'] = df_summer_dict[key].index\n",
    "# Concatenate all dataframes\n",
    "df_summer = pd.concat(df_summer_dict, ignore_index=True)\n",
    "df_summer.to_csv('../database/cleaned/giyani_summer_concatenated.csv', index=True)"
   ]
  },
  {
   "cell_type": "code",
   "execution_count": 22,
   "metadata": {},
   "outputs": [
    {
     "data": {
      "text/plain": [
       "858    97\n",
       "dtype: int64"
      ]
     },
     "execution_count": 22,
     "metadata": {},
     "output_type": "execute_result"
    }
   ],
   "source": [
    "SeriesLength = pd.Series([len(df_winter_dict[key]) for key in df_winter_dict.keys()])\n",
    "SeriesLength.value_counts().sort_index(ascending=False)\n"
   ]
  },
  {
   "cell_type": "code",
   "execution_count": 21,
   "metadata": {},
   "outputs": [
    {
     "data": {
      "text/plain": [
       "2328    365\n",
       "dtype: int64"
      ]
     },
     "execution_count": 21,
     "metadata": {},
     "output_type": "execute_result"
    }
   ],
   "source": [
    "SeriesLength = pd.Series([len(df_summer_dict[key]) for key in df_summer_dict.keys()])\n",
    "SeriesLength.value_counts().sort_index(ascending=False)"
   ]
  },
  {
   "cell_type": "code",
   "execution_count": 20,
   "metadata": {},
   "outputs": [
    {
     "name": "stdout",
     "output_type": "stream",
     "text": [
      "Missing values in winter:\n",
      "Indoor Mean Air Temperature     0\n",
      "Indoor Air Relative Humidity    0\n",
      "Outdoor Dry Bulb Temperature    0\n",
      "Outdoor Relative Humidity       0\n",
      "Atmospheric Station Pressure    0\n",
      "Wind Speed                      0\n",
      "Wind Direction                  0\n",
      "Precipitable Water              0\n",
      "key                             0\n",
      "Datetime                        0\n",
      "dtype: int64\n",
      "Missing values in summer:\n",
      "Indoor Mean Air Temperature     0\n",
      "Indoor Air Relative Humidity    0\n",
      "Outdoor Dry Bulb Temperature    0\n",
      "Outdoor Relative Humidity       0\n",
      "Atmospheric Station Pressure    0\n",
      "Wind Speed                      0\n",
      "Wind Direction                  0\n",
      "Precipitable Water              0\n",
      "key                             0\n",
      "Datetime                        0\n",
      "dtype: int64\n"
     ]
    }
   ],
   "source": [
    "#%% Missing values\n",
    "print('Missing values in winter:')\n",
    "print(df_winter.isnull().sum())\n",
    "print('Missing values in summer:')\n",
    "print(df_summer.isnull().sum())"
   ]
  }
 ],
 "metadata": {
  "kernelspec": {
   "display_name": "ml-env",
   "language": "python",
   "name": "python3"
  },
  "language_info": {
   "codemirror_mode": {
    "name": "ipython",
    "version": 3
   },
   "file_extension": ".py",
   "mimetype": "text/x-python",
   "name": "python",
   "nbconvert_exporter": "python",
   "pygments_lexer": "ipython3",
   "version": "3.10.9"
  },
  "orig_nbformat": 4
 },
 "nbformat": 4,
 "nbformat_minor": 2
}
