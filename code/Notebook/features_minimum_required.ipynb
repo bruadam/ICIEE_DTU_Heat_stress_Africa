{
 "cells": [
  {
   "cell_type": "code",
   "execution_count": 1,
   "metadata": {},
   "outputs": [
    {
     "name": "stderr",
     "output_type": "stream",
     "text": [
      "c:\\Users\\bruno\\.conda\\envs\\ml-env\\lib\\site-packages\\sklearn\\base.py:413: UserWarning: X has feature names, but SelectFromModel was fitted without feature names\n",
      "  warnings.warn(\n"
     ]
    },
    {
     "name": "stdout",
     "output_type": "stream",
     "text": [
      "Selected features:  Index(['Outdoor Dry Bulb Temperature', 'Atmospheric Station Pressure',\n",
      "       'floor_area', 'volume', 'orientation', 'ceiling_insulation',\n",
      "       'number_people', 'day_period', 'history_temperature'],\n",
      "      dtype='object')\n",
      "Cross-validation scores:  [0.81349409 0.81530537 0.81485255 0.81336673 0.81391861]\n",
      "Average cross-validation score:  0.814187468160978\n"
     ]
    }
   ],
   "source": [
    "#%% Perform feature selection and cross-validation\n",
    "from sklearn.feature_selection import SelectFromModel\n",
    "from sklearn.model_selection import cross_val_score\n",
    "from toolbox.machine_learning import balance_data\n",
    "from sklearn.model_selection import train_test_split\n",
    "from sklearn.ensemble import RandomForestClassifier\n",
    "from toolbox.machine_learning import get_features_sets, get_data\n",
    "from toolbox.figures import figure_params\n",
    "import pandas as pd\n",
    "\n",
    "# Define target\n",
    "target = 'heat_stress_category'\n",
    "\n",
    "# Define period\n",
    "period = [[\"2023-01-01 00:00:00\" , \"2023-01-31 23:00:00\"]] # January 2023\n",
    "\n",
    "# Get features sets\n",
    "features = get_features_sets('Aggregated')\n",
    "\n",
    "# Get data\n",
    "X, y = get_data('present-day', features, target, scaler=True, periods=period)\n",
    "\n",
    "# Balance data\n",
    "X, y = balance_data(X, y)\n",
    "\n",
    "columns = X.columns\n",
    "\n",
    "# Train a RandomForestClassifier\n",
    "clf = RandomForestClassifier(n_estimators=100, random_state=42)\n",
    "clf.fit(X, y)\n",
    "\n",
    "# Get feature importances\n",
    "importances = clf.feature_importances_\n",
    "\n",
    "#%% Perform feature selection\n",
    "selector = SelectFromModel(clf, threshold=0.05, )\n",
    "X_transformed = selector.transform(X)\n",
    "\n",
    "# Get selected features\n",
    "selected_features = columns[selector.get_support()]\n",
    "print('Selected features: ', selected_features)\n",
    "\n",
    "# Perform cross-validation on the selected features\n",
    "X_train, X_test, y_train, y_test = train_test_split(X_transformed, y, test_size=0.2, random_state=42)\n",
    "\n",
    "scores = cross_val_score(clf, X_train, y_train, cv=5)\n",
    "\n",
    "print(\"Cross-validation scores: \", scores)\n",
    "print(\"Average cross-validation score: \", scores.mean())\n",
    "\n",
    "# Save feature importances\n",
    "df = pd.DataFrame(importances, index=columns, columns=['importance'])\n",
    "df.to_csv('../results/features/feature_importances.csv')\n",
    "\n",
    "# Save selected features\n",
    "df = pd.DataFrame(selected_features, columns=['selected_features'])\n",
    "df.to_csv('../results/features/selected_features.csv')\n",
    "\n",
    "# Save cross-validation scores\n",
    "df = pd.DataFrame(scores, columns=['cross_validation_scores'])\n",
    "df.to_csv('../results/features/cross_validation_scores.csv')"
   ]
  }
 ],
 "metadata": {
  "kernelspec": {
   "display_name": "ml-env",
   "language": "python",
   "name": "python3"
  },
  "language_info": {
   "codemirror_mode": {
    "name": "ipython",
    "version": 3
   },
   "file_extension": ".py",
   "mimetype": "text/x-python",
   "name": "python",
   "nbconvert_exporter": "python",
   "pygments_lexer": "ipython3",
   "version": "3.10.9"
  },
  "orig_nbformat": 4
 },
 "nbformat": 4,
 "nbformat_minor": 2
}
