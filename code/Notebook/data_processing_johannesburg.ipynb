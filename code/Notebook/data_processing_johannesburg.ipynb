{
 "cells": [
  {
   "cell_type": "code",
   "execution_count": 1,
   "metadata": {},
   "outputs": [],
   "source": [
    "#%% Import libraries\n",
    "import pandas as pd\n",
    "import numpy as np\n",
    "import warnings\n",
    "warnings.filterwarnings('ignore')"
   ]
  },
  {
   "cell_type": "code",
   "execution_count": 2,
   "metadata": {},
   "outputs": [
    {
     "name": "stdout",
     "output_type": "stream",
     "text": [
      "Info about the data set:\n",
      "<class 'pandas.core.frame.DataFrame'>\n",
      "RangeIndex: 326417 entries, 0 to 326416\n",
      "Data columns (total 4 columns):\n",
      " #   Column                        Non-Null Count   Dtype         \n",
      "---  ------                        --------------   -----         \n",
      " 0   Datetime                      326417 non-null  datetime64[ns]\n",
      " 1   Indoor Mean Air Temperature   326417 non-null  object        \n",
      " 2   Indoor Air Relative Humidity  326417 non-null  float64       \n",
      " 3   key                           326417 non-null  object        \n",
      "dtypes: datetime64[ns](1), float64(1), object(2)\n",
      "memory usage: 10.0+ MB\n",
      "None\n"
     ]
    }
   ],
   "source": [
    "#%% Import data\n",
    "path = '..\\database\\johannesburg\\Jhb_Indoor_Housing_Temp_Data.xlsx'\n",
    "\n",
    "keys = pd.ExcelFile(path).sheet_names\n",
    "df = pd.read_excel(path, sheet_name=keys)\n",
    "\n",
    "for key in keys:\n",
    "    df[key]['Datetime'] = pd.to_datetime(df[key]['Date'].astype(str) + ' ' + df[key]['Time'].astype(str))\n",
    "    df[key] = df[key][['Datetime', 'Readings (°C)', 'Readings (%RH)']]\n",
    "    df[key].rename(columns={'Readings (°C)': 'Indoor Mean Air Temperature', 'Readings (%RH)': 'Indoor Air Relative Humidity'}, inplace=True)\n",
    "    df[key]['key'] = key\n",
    "df = pd.concat(df, ignore_index=True)\n",
    "\n",
    "print('Info about the data set:')\n",
    "print(df.info())"
   ]
  },
  {
   "cell_type": "code",
   "execution_count": 3,
   "metadata": {},
   "outputs": [
    {
     "name": "stdout",
     "output_type": "stream",
     "text": [
      "Non-numeric values in the data set : ['> 85.0  '] \n",
      "\n",
      "Info about the data set:\n",
      "<class 'pandas.core.frame.DataFrame'>\n",
      "Int64Index: 326412 entries, 0 to 326416\n",
      "Data columns (total 4 columns):\n",
      " #   Column                        Non-Null Count   Dtype         \n",
      "---  ------                        --------------   -----         \n",
      " 0   Datetime                      326412 non-null  datetime64[ns]\n",
      " 1   Indoor Mean Air Temperature   326412 non-null  float64       \n",
      " 2   Indoor Air Relative Humidity  326412 non-null  float64       \n",
      " 3   key                           326412 non-null  object        \n",
      "dtypes: datetime64[ns](1), float64(2), object(1)\n",
      "memory usage: 12.5+ MB\n",
      "None\n"
     ]
    }
   ],
   "source": [
    "#%% Clean data\n",
    "strings = df[~df['Indoor Mean Air Temperature'].astype(str).str.contains(r'^-?\\d+\\.?\\d*$')]['Indoor Mean Air Temperature'].unique()\n",
    "print('Non-numeric values in the data set : {} \\n'.format(strings))\n",
    "\n",
    "df.replace('> 85.0  ', np.nan, inplace=True) # Replace strings with NaN\n",
    "\n",
    "# Convert columns to numeric\n",
    "df['Indoor Mean Air Temperature'] = pd.to_numeric(df['Indoor Mean Air Temperature'])\n",
    "df['Indoor Air Relative Humidity'] = pd.to_numeric(df['Indoor Air Relative Humidity'])\n",
    "\n",
    "# Drop missing values\n",
    "df.dropna(inplace=True)\n",
    "\n",
    "print('Info about the data set:')\n",
    "print(df.info())"
   ]
  },
  {
   "cell_type": "code",
   "execution_count": 4,
   "metadata": {},
   "outputs": [
    {
     "name": "stdout",
     "output_type": "stream",
     "text": [
      "Common datetime range: 2014-02-18 05:05:00 - 2014-06-09 04:05:00 \n",
      "\n",
      "Info about the data set:\n",
      "Number of keys: 79\n"
     ]
    }
   ],
   "source": [
    "#%% Common measurements period\n",
    "common_datetime_range = df.groupby('key')['Datetime'].agg(['min', 'max'])\n",
    "date_min = common_datetime_range['min'].max()\n",
    "date_max = common_datetime_range['max'].min()\n",
    "print('Common datetime range: {} - {} \\n'.format(date_min, date_max))\n",
    "\n",
    "# Filter data\n",
    "df_filtered = df[(df['Datetime'] >= date_min) & (df['Datetime'] <= date_max)]\n",
    "\n",
    "# Create a dict with keys and dataframes\n",
    "df_dict = dict(tuple(df_filtered.groupby('key')))\n",
    "\n",
    "\n",
    "print('Info about the data set:')\n",
    "print('Number of keys: {}'.format(len(df_dict)))"
   ]
  },
  {
   "cell_type": "code",
   "execution_count": 5,
   "metadata": {},
   "outputs": [
    {
     "name": "stdout",
     "output_type": "stream",
     "text": [
      "Info about the data set:\n",
      "Number of keys: 78\n",
      "Key to eject: 1010043483\n"
     ]
    }
   ],
   "source": [
    "#%% Eject keys with less than 95% of the data points\n",
    "for key in df_dict.keys():\n",
    "    if len(df_dict[key]) < (pd.Series([len(df_dict[key]) for key in df_dict.keys()]).value_counts().sort_index(ascending=False).index[0])*0.95:\n",
    "        key_to_eject = key\n",
    "    df_dict[key] = df_dict[key].sort_values(by=['Datetime'])\n",
    "    df_dict[key] = df_dict[key].resample('1H', on='Datetime').mean()\n",
    "    df_dict[key]['Datetime'] = df_dict[key].index\n",
    "    df_dict[key]['key'] = key\n",
    "\n",
    "df_dict.pop(key_to_eject)\n",
    "df_filtered = pd.concat(df_dict, ignore_index=True)\n",
    "\n",
    "print('Info about the data set:')\n",
    "print('Number of keys: {}'.format(len(df_dict)))\n",
    "print('Key to eject: {}'.format(key_to_eject))"
   ]
  },
  {
   "cell_type": "code",
   "execution_count": 6,
   "metadata": {},
   "outputs": [],
   "source": [
    "#%% Interpolate missing values\n",
    "\n",
    "df_temp = df_filtered.pivot_table(values='Indoor Mean Air Temperature', index='Datetime', columns='key')\n",
    "df_temp = df_temp.interpolate(method='time', limit_direction='both')\n",
    "\n",
    "df_rh = df_filtered.pivot_table(values='Indoor Air Relative Humidity', index='Datetime', columns='key')\n",
    "df_rh = df_rh.interpolate(method='time', limit_direction='both')\n",
    "\n",
    "# Merge dataframes to a dictionary with keys and dataframes of three columns (Datetime, Temperature, Relative Humidity)\n",
    "df_dict = {}\n",
    "for key in df_temp.columns:\n",
    "    df_dict[key] = pd.concat([df_temp[key], df_rh[key]], axis=1)\n",
    "    df_dict[key].columns = ['Indoor Mean Air Temperature', 'Indoor Air Relative Humidity']\n",
    "    df_dict[key].index = pd.to_datetime(df_dict[key].index)"
   ]
  },
  {
   "cell_type": "code",
   "execution_count": 7,
   "metadata": {},
   "outputs": [],
   "source": [
    "#%% Merge with weather data\n",
    "\n",
    "df_weather = pd.read_csv('../database/cleaned/johannesburg_weather.csv', header=0, parse_dates=True)\n",
    "df_weather['Datetime'] = pd.to_datetime(df_weather['Datetime'])\n",
    "df_weather.set_index('Datetime', inplace=True)\n",
    "\n",
    "columns = ['Indoor Mean Air Temperature', 'Indoor Air Relative Humidity', 'Outdoor Dry Bulb Temperature', 'Outdoor Relative Humidity', 'Atmospheric Station Pressure', 'Wind Speed', 'Wind Direction', 'Precipitable Water']\n",
    "# Merge\n",
    "for key in df_dict.keys():\n",
    "    df_dict[key] = pd.merge_asof(df_dict[key], df_weather, left_on='Datetime', right_on='Datetime', direction='nearest')\n",
    "    df_dict[key].set_index('Datetime', inplace=True)\n",
    "    df_dict[key] = df_dict[key][columns]"
   ]
  },
  {
   "cell_type": "code",
   "execution_count": 13,
   "metadata": {},
   "outputs": [],
   "source": [
    "#%% Save data \n",
    "for key in df_dict.keys():\n",
    "    df_dict[key].to_csv('../database/cleaned/johannesburg/{}.csv'.format(key), index=True)\n",
    "\n",
    "for key in df_dict.keys():\n",
    "    df_dict[key]['key'] = key\n",
    "    df_dict[key]['Datetime'] = df_dict[key].index\n",
    "# Concatenate all dataframes\n",
    "df = pd.concat(df_dict, ignore_index=True)\n",
    "df.to_csv('../database/cleaned/johannesburg_concatenated.csv', index=True)"
   ]
  }
 ],
 "metadata": {
  "kernelspec": {
   "display_name": "ml-env",
   "language": "python",
   "name": "python3"
  },
  "language_info": {
   "codemirror_mode": {
    "name": "ipython",
    "version": 3
   },
   "file_extension": ".py",
   "mimetype": "text/x-python",
   "name": "python",
   "nbconvert_exporter": "python",
   "pygments_lexer": "ipython3",
   "version": "3.10.9"
  },
  "orig_nbformat": 4
 },
 "nbformat": 4,
 "nbformat_minor": 2
}
