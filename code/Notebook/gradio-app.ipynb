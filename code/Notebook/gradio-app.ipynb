{
 "cells": [
  {
   "cell_type": "code",
   "execution_count": 4,
   "metadata": {},
   "outputs": [],
   "source": [
    "import gradio as gr\n",
    "import joblib\n",
    "import json\n",
    "import requests\n",
    "from datetime import datetime\n",
    "\n",
    "# Get the time now\n",
    "now = datetime.now()\n",
    "current_time = now.strftime(\"%H:%M:%S\")\n",
    "# Get if we are in the morning or afternoon, evening or night\n",
    "if int(current_time.split(\":\")[0]) < 12 and int(current_time.split(\":\")[0]) > 6:\n",
    "    time_of_day = \"morning\"\n",
    "elif int(current_time.split(\":\")[0]) < 18:\n",
    "    time_of_day = \"afternoon\"\n",
    "elif int(current_time.split(\":\")[0]) < 22:\n",
    "    time_of_day = \"evening\"\n",
    "else:\n",
    "    time_of_day = \"night\"\n",
    "\n",
    "# Load credentials.json\n",
    "with open(\"../credentials.json\") as f:\n",
    "    credentials = json.load(f)\n",
    "\n",
    "api_key = credentials[\"OpenWeatherMap\"][\"api_key\"]\n"
   ]
  },
  {
   "cell_type": "code",
   "execution_count": 16,
   "metadata": {},
   "outputs": [
    {
     "name": "stdout",
     "output_type": "stream",
     "text": [
      "Error calling API: status code: 401\n",
      "Import failed\n"
     ]
    }
   ],
   "source": [
    "def get_weather_forecast(appid, lat, lon, units=\"metric\", lang=\"en\"):\n",
    "    base_url = \"http://api.openweathermap.org/data/2.5/weather\"\n",
    "    \n",
    "    # Construct the API call\n",
    "    call = f\"{base_url}?appid={appid}&lat={lat}&lon={lon}&units={units}&lang={lang}\"\n",
    "\n",
    "    # Make the API call\n",
    "    response = requests.get(call)\n",
    "\n",
    "    if response.status_code == 200:\n",
    "        data = response.json()\n",
    "        weather = data[\"weather\"][0][\"description\"]\n",
    "        temperature = data[\"main\"][\"temp\"]\n",
    "        humidity = data[\"main\"][\"humidity\"]\n",
    "        pressure = data[\"main\"][\"pressure\"]\n",
    "        wind_speed = data[\"wind\"][\"speed\"]\n",
    "        wind_direction = data[\"wind\"][\"deg\"]\n",
    "        rain = data[\"rain\"][\"1h\"] if \"rain\" in data else 0\n",
    "        \n",
    "        return {\n",
    "            \"weather\": weather,\n",
    "            \"temperature\": temperature,\n",
    "            \"humidity\": humidity, \n",
    "            \"pressure\": pressure,\n",
    "            \"wind_speed\": wind_speed,\n",
    "            \"wind_direction\": wind_direction,\n",
    "            \"rain\": rain\n",
    "        }\n",
    "    else:\n",
    "        print(\"Error calling API: status code: {}\".format(response.status_code))\n",
    "        return None\n",
    "\n",
    "lat, lon = 55.676098, 12.568337\n",
    "\n",
    "# Get the weather forecast for the specified city\n",
    "forecast = get_weather_forecast(lat, lon, api_key, units=\"metric\", lang=\"en\")\n",
    "\n",
    "if forecast:\n",
    "    print(\"Import successful\")\n",
    "else:\n",
    "    print(\"Import failed\")"
   ]
  },
  {
   "cell_type": "code",
   "execution_count": null,
   "metadata": {},
   "outputs": [],
   "source": [
    "# Load the pre-trained model\n",
    "model = joblib.load(\"../results/models/present-day_bc_ml_best_model.sav\")\n",
    "\n",
    "# Function to make predictions using the loaded model\n",
    "def predict_output(out_temp, out_rh, pressure, wind_dir, wind_speed, rain, floor_area, building_height, orientation, construction_type, ceiling_insulation, number_people, day_period, history_temperature):\n",
    "    # Process the inputs and make predictions\n",
    "    # Replace this code with your actual model prediction logic\n",
    "    output = model.predict([[out_temp, out_rh, pressure, wind_dir, wind_speed, rain, floor_area, building_height, orientation, construction_type, ceiling_insulation, number_people, day_period, history_temperature]])[0]\n",
    "    return output\n",
    "\n",
    "# Create the input interface\n",
    "out_temp = gr.inputs.Slider(minimum=20, maximum=50, default=forecast[\"temperature\"], label=\"Outside temperature (°C)\")\n",
    "out_rh = gr.inputs.Slider(minimum=0, maximum=100, default=forecast[\"humidity\"], label=\"Outside relative humidity (%)\")\n",
    "pressure = gr.inputs.Slider(minimum=700, maximum=1100, default=forecast[\"pressure\"], label=\"Pressure (hPa)\")\n",
    "wind_dir = gr.inputs.Slider(minimum=0, maximum=360, default=forecast[\"wind_direction\"], label=\"Wind direction (°)\")\n",
    "wind_speed = gr.inputs.Slider(minimum=0, maximum=20, default=forecast[\"wind_speed\"], label=\"Wind speed (m/s)\")\n",
    "rain = gr.inputs.Slider(minimum=0, maximum=10, default=forecast[\"rain\"], label=\"Rain (mm/h)\")\n",
    "floor_area = gr.inputs.Slider(minimum=0, maximum=80, default=25, label=\"Floor area (m²)\")\n",
    "building_height = gr.inputs.Slider(minimum=0, maximum=4, default=2, label=\"Building height (m)\")\n",
    "orientation = gr.inputs.Slider(minimum=0, maximum=360, default=0, label=\"Orientation (°)\")\n",
    "construction_type = gr.inputs.Dropdown([\"Light\", \"\"], default=\"Light\", label=\"Construction type\")\n",
    "\n",
    "\n",
    "\n",
    "# Create the output interface\n",
    "output = gr.outputs.Text(label=\"Output\")\n",
    "\n",
    "# Define the app\n",
    "gr.Interface(fn=predict_output, inputs=[], outputs=output, title=\"ML Model App\").launch()"
   ]
  },
  {
   "cell_type": "code",
   "execution_count": 1,
   "metadata": {},
   "outputs": [
    {
     "name": "stdout",
     "output_type": "stream",
     "text": [
      "['Outdoor Dry Bulb Temperature', 'Outdoor Relative Humidity', 'Atmospheric Station Pressure', 'Wind Direction', 'Wind Speed', 'Precipitable Water', 'floor_area', 'volume', 'orientation', 'construction_type', 'ceiling_insulation', 'number_people', 'day_period', 'history_temperature']\n"
     ]
    }
   ],
   "source": [
    "from toolbox.machine_learning import get_features_sets\n",
    "\n",
    "print(get_features_sets(\"Aggregated\"))"
   ]
  }
 ],
 "metadata": {
  "kernelspec": {
   "display_name": "ml-env",
   "language": "python",
   "name": "python3"
  },
  "language_info": {
   "codemirror_mode": {
    "name": "ipython",
    "version": 3
   },
   "file_extension": ".py",
   "mimetype": "text/x-python",
   "name": "python",
   "nbconvert_exporter": "python",
   "pygments_lexer": "ipython3",
   "version": "3.10.9"
  },
  "orig_nbformat": 4
 },
 "nbformat": 4,
 "nbformat_minor": 2
}
